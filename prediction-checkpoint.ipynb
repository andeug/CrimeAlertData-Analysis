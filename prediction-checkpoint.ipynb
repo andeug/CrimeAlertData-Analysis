{
 "cells": [
  {
   "cell_type": "code",
   "execution_count": 1,
   "metadata": {
    "collapsed": false
   },
   "outputs": [
    {
     "name": "stderr",
     "output_type": "stream",
     "text": [
      "C:\\Users\\USER\\projectconda\\lib\\site-packages\\sklearn\\cross_validation.py:41: DeprecationWarning: This module was deprecated in version 0.18 in favor of the model_selection module into which all the refactored classes and functions are moved. Also note that the interface of the new CV iterators are different from that of this module. This module will be removed in 0.20.\n",
      "  \"This module will be removed in 0.20.\", DeprecationWarning)\n"
     ]
    }
   ],
   "source": [
    "#importin libraries\n",
    "import pandas as pd\n",
    "from sklearn.cross_validation import train_test_split\n",
    "from sklearn import preprocessing\n",
    "from sklearn.metrics import log_loss\n",
    "from sklearn.naive_bayes import BernoulliNB\n",
    "from sklearn.linear_model import LogisticRegression\n",
    "import numpy as np\n",
    "\n"
   ]
  },
  {
   "cell_type": "code",
   "execution_count": 21,
   "metadata": {
    "collapsed": true
   },
   "outputs": [],
   "source": [
    "\n",
    "#Load Data with pandas, and parse the first column into datetime\n",
    "train=pd.read_csv('Traindata.csv', parse_dates)\n",
    "test=pd.read_csv('Testdata.csv', parse_dates )"
   ]
  },
  {
   "cell_type": "code",
   "execution_count": 3,
   "metadata": {
    "collapsed": false
   },
   "outputs": [
    {
     "data": {
      "text/html": [
       "<div>\n",
       "<style>\n",
       "    .dataframe thead tr:only-child th {\n",
       "        text-align: right;\n",
       "    }\n",
       "\n",
       "    .dataframe thead th {\n",
       "        text-align: left;\n",
       "    }\n",
       "\n",
       "    .dataframe tbody tr th {\n",
       "        vertical-align: top;\n",
       "    }\n",
       "</style>\n",
       "<table border=\"1\" class=\"dataframe\">\n",
       "  <thead>\n",
       "    <tr style=\"text-align: right;\">\n",
       "      <th></th>\n",
       "      <th>crime id</th>\n",
       "      <th>category</th>\n",
       "      <th>longitude</th>\n",
       "      <th>latitude</th>\n",
       "      <th>location</th>\n",
       "      <th>date</th>\n",
       "      <th>weekday</th>\n",
       "    </tr>\n",
       "  </thead>\n",
       "  <tbody>\n",
       "    <tr>\n",
       "      <th>0</th>\n",
       "      <td>212</td>\n",
       "      <td>larcency</td>\n",
       "      <td>36.911243</td>\n",
       "      <td>-1.308174</td>\n",
       "      <td>embakasi</td>\n",
       "      <td>2017-05-13 23:53:00</td>\n",
       "      <td>Tuesday</td>\n",
       "    </tr>\n",
       "    <tr>\n",
       "      <th>1</th>\n",
       "      <td>123</td>\n",
       "      <td>burglary</td>\n",
       "      <td>36.887063</td>\n",
       "      <td>-1.310682</td>\n",
       "      <td>pipeline</td>\n",
       "      <td>2017-05-13 23:33:00</td>\n",
       "      <td>Tuesday</td>\n",
       "    </tr>\n",
       "    <tr>\n",
       "      <th>2</th>\n",
       "      <td>456</td>\n",
       "      <td>murder</td>\n",
       "      <td>36.913794</td>\n",
       "      <td>-1.276162</td>\n",
       "      <td>kayole</td>\n",
       "      <td>2017-05-14 23:30:00</td>\n",
       "      <td>Wednesday</td>\n",
       "    </tr>\n",
       "    <tr>\n",
       "      <th>3</th>\n",
       "      <td>770</td>\n",
       "      <td>assault</td>\n",
       "      <td>36.903040</td>\n",
       "      <td>-1.249197</td>\n",
       "      <td>dandora</td>\n",
       "      <td>2017-05-15 23:30:00</td>\n",
       "      <td>Thursday</td>\n",
       "    </tr>\n",
       "    <tr>\n",
       "      <th>4</th>\n",
       "      <td>701</td>\n",
       "      <td>assault</td>\n",
       "      <td>36.913794</td>\n",
       "      <td>-1.276162</td>\n",
       "      <td>kayole</td>\n",
       "      <td>2017-05-16 23:30:00</td>\n",
       "      <td>Friday</td>\n",
       "    </tr>\n",
       "  </tbody>\n",
       "</table>\n",
       "</div>"
      ],
      "text/plain": [
       "   crime id  category  longitude  latitude  location                date  \\\n",
       "0       212  larcency  36.911243 -1.308174  embakasi 2017-05-13 23:53:00   \n",
       "1       123  burglary  36.887063 -1.310682  pipeline 2017-05-13 23:33:00   \n",
       "2       456    murder  36.913794 -1.276162    kayole 2017-05-14 23:30:00   \n",
       "3       770   assault  36.903040 -1.249197   dandora 2017-05-15 23:30:00   \n",
       "4       701   assault  36.913794 -1.276162    kayole 2017-05-16 23:30:00   \n",
       "\n",
       "     weekday  \n",
       "0    Tuesday  \n",
       "1    Tuesday  \n",
       "2  Wednesday  \n",
       "3   Thursday  \n",
       "4     Friday  "
      ]
     },
     "execution_count": 3,
     "metadata": {},
     "output_type": "execute_result"
    }
   ],
   "source": [
    "train.head(5)"
   ]
  },
  {
   "cell_type": "code",
   "execution_count": 4,
   "metadata": {
    "collapsed": false
   },
   "outputs": [
    {
     "data": {
      "text/html": [
       "<div>\n",
       "<style>\n",
       "    .dataframe thead tr:only-child th {\n",
       "        text-align: right;\n",
       "    }\n",
       "\n",
       "    .dataframe thead th {\n",
       "        text-align: left;\n",
       "    }\n",
       "\n",
       "    .dataframe tbody tr th {\n",
       "        vertical-align: top;\n",
       "    }\n",
       "</style>\n",
       "<table border=\"1\" class=\"dataframe\">\n",
       "  <thead>\n",
       "    <tr style=\"text-align: right;\">\n",
       "      <th></th>\n",
       "      <th>crime id</th>\n",
       "      <th>longitude</th>\n",
       "      <th>latitude</th>\n",
       "      <th>location</th>\n",
       "      <th>date</th>\n",
       "      <th>weekday</th>\n",
       "    </tr>\n",
       "  </thead>\n",
       "  <tbody>\n",
       "    <tr>\n",
       "      <th>0</th>\n",
       "      <td>212</td>\n",
       "      <td>36.911243</td>\n",
       "      <td>-1.308174</td>\n",
       "      <td>embakasi</td>\n",
       "      <td>2017-05-13 23:53:00</td>\n",
       "      <td>Tuesday</td>\n",
       "    </tr>\n",
       "    <tr>\n",
       "      <th>1</th>\n",
       "      <td>123</td>\n",
       "      <td>36.887063</td>\n",
       "      <td>-1.310682</td>\n",
       "      <td>pipeline</td>\n",
       "      <td>2017-05-13 23:33:00</td>\n",
       "      <td>Tuesday</td>\n",
       "    </tr>\n",
       "    <tr>\n",
       "      <th>2</th>\n",
       "      <td>456</td>\n",
       "      <td>36.913794</td>\n",
       "      <td>-1.276162</td>\n",
       "      <td>kayole</td>\n",
       "      <td>2017-05-14 23:30:00</td>\n",
       "      <td>Wednesday</td>\n",
       "    </tr>\n",
       "    <tr>\n",
       "      <th>3</th>\n",
       "      <td>770</td>\n",
       "      <td>36.903040</td>\n",
       "      <td>-1.249197</td>\n",
       "      <td>dandora</td>\n",
       "      <td>2017-05-15 23:30:00</td>\n",
       "      <td>Thursday</td>\n",
       "    </tr>\n",
       "    <tr>\n",
       "      <th>4</th>\n",
       "      <td>701</td>\n",
       "      <td>36.913794</td>\n",
       "      <td>-1.276162</td>\n",
       "      <td>kayole</td>\n",
       "      <td>2017-05-16 23:30:00</td>\n",
       "      <td>Friday</td>\n",
       "    </tr>\n",
       "  </tbody>\n",
       "</table>\n",
       "</div>"
      ],
      "text/plain": [
       "   crime id  longitude  latitude  location                date    weekday\n",
       "0       212  36.911243 -1.308174  embakasi 2017-05-13 23:53:00    Tuesday\n",
       "1       123  36.887063 -1.310682  pipeline 2017-05-13 23:33:00    Tuesday\n",
       "2       456  36.913794 -1.276162    kayole 2017-05-14 23:30:00  Wednesday\n",
       "3       770  36.903040 -1.249197   dandora 2017-05-15 23:30:00   Thursday\n",
       "4       701  36.913794 -1.276162    kayole 2017-05-16 23:30:00     Friday"
      ]
     },
     "execution_count": 4,
     "metadata": {},
     "output_type": "execute_result"
    }
   ],
   "source": [
    "test.head(5)"
   ]
  },
  {
   "cell_type": "markdown",
   "metadata": {},
   "source": [
    "predicting crime categories using the predictors location and weekday\n"
   ]
  },
  {
   "cell_type": "code",
   "execution_count": 5,
   "metadata": {
    "collapsed": true
   },
   "outputs": [],
   "source": [
    "#handling categorical data for my predictors ,weekdays and location\n",
    "#Convert crime labels to  numbers that can be handled by the naive bayes algorithm\n",
    "\n",
    "le_crime = preprocessing.LabelEncoder()\n",
    "crime = le_crime.fit_transform(train.category)\n",
    "\n",
    "\n",
    "\n",
    "#Get binarized weekdays, location,hours, months\n",
    "\n",
    "hour = train.date.dt.hour\n",
    "hours = pd.get_dummies(hour, prefix='Hour')\n",
    "days = pd.get_dummies(train.weekday)\n",
    "month = train.date.dt.month\n",
    "months = pd.get_dummies(month, prefix='Month')\n",
    "location = pd.get_dummies(train.location)\n",
    "\n",
    "\n",
    "\n",
    "\n",
    " \n",
    " #Build new array\n",
    "train_data = pd.concat([ days, location,hours,months], axis=1)\n",
    "\n",
    "#adding binarized crime category to train data\n",
    "train_data['crime']=crime\n",
    "\n",
    "# Identify the evening hour, with the expectation that evening hours have more crime\n",
    "train_data['Evening']=hour\n",
    "train_data['Evening']=train_data['Evening'].apply(lambda x: train_data['Evening'][x] in range (18,23))\n",
    "train_data['Evening']=train_data['Evening'].apply(lambda x: int(bool(x)))\n",
    "\n",
    "#adding longitude and latitude to the train data\n",
    "\n",
    "train_data[\"X\"] = train['latitude']\n",
    "train_data[\"Y\"] = train['longitude']\n",
    "\n",
    "\n",
    " \n",
    "#Repeat for test data\n",
    "\n",
    "hour = test.date.dt.hour\n",
    "hours = pd.get_dummies(hour, prefix='Hour')\n",
    "days = pd.get_dummies(test.weekday)\n",
    "month = test.date.dt.month\n",
    "months = pd.get_dummies(month, prefix='Month')\n",
    "location = pd.get_dummies(test.location)\n",
    "\n",
    "\n",
    " \n",
    "test_data = pd.concat([ days,location], axis=1)\n",
    "\n",
    "#adding longitude and latitude to the train data\n",
    "test_data[\"X\"] = test['latitude']\n",
    "test_data[\"Y\"] = test['longitude']\n",
    "# Identify the evening hour, with the expectation that evening hours have more crime\n",
    "test_data['Evening']=hour\n",
    "test_data['Evening']=test_data['Evening'].apply(lambda x: test_data['Evening'][x] in range (18,23))\n",
    "test_data['Evening']=test_data['Evening'].apply(lambda x: int(bool(x)))\n",
    "\n",
    "\n",
    "\n",
    " \n",
    "training, validation = train_test_split(train_data, train_size=.70)"
   ]
  },
  {
   "cell_type": "code",
   "execution_count": 6,
   "metadata": {
    "collapsed": true
   },
   "outputs": [],
   "source": [
    "#these are the features I will use for prediction\n",
    "\n",
    "features = ['embakasi', 'pipeline', 'kayole', 'dandora', 'mathare', 'westlands',\n",
    "       'kariobangi', 'buruburu', 'karen', 'muthaiga', 'runda',\n",
    "       'imara daima', 'komarock','Tuesday', 'Wednesday', 'Thursday', 'Friday', \n",
    "            'Saturday', 'Sunday','Monday']\n",
    "            "
   ]
  },
  {
   "cell_type": "code",
   "execution_count": 17,
   "metadata": {
    "collapsed": false
   },
   "outputs": [
    {
     "data": {
      "text/plain": [
       "2.5844356859208784"
      ]
     },
     "execution_count": 17,
     "metadata": {},
     "output_type": "execute_result"
    }
   ],
   "source": [
    "# training my classifier using the train dataset and evaluting its perfomance in the train data using \n",
    "#logarithimic loss which is a better perfomance measure compared  to accuracy measure\n",
    "training, validation = train_test_split(train_data, train_size=.70)\n",
    "model = BernoulliNB()\n",
    "model.fit(training[features], training['crime'])\n",
    "predicted = np.array(model.predict_proba(validation[features]))\n",
    "log_loss(validation['crime'], predicted) "
   ]
  },
  {
   "cell_type": "code",
   "execution_count": 19,
   "metadata": {
    "collapsed": true
   },
   "outputs": [],
   "source": [
    "# predicting crimes on the test dataset\n",
    "\n",
    "#calling the classifier\n",
    "\n",
    "\n",
    "model = BernoulliNB()\n",
    "\n",
    "#fitting the model on the  train feature\n",
    "model.fit(train_data[features], train_data['crime'])\n",
    "\n",
    "#gives the likelyhoods of predictions\n",
    "predicted = model.predict_proba(test_data[features])\n",
    " \n",
    "#Write results\n",
    "result=pd.DataFrame(predicted, columns=le_crime.classes_)\n"
   ]
  },
  {
   "cell_type": "code",
   "execution_count": 20,
   "metadata": {
    "collapsed": true
   },
   "outputs": [],
   "source": [
    "# writing the results on csv file\n",
    "result.to_csv('testResult1.csv', index = True, index_label = 'Id' )"
   ]
  },
  {
   "cell_type": "markdown",
   "metadata": {},
   "source": [
    "predicting crime locations with predictors"
   ]
  },
  {
   "cell_type": "code",
   "execution_count": 24,
   "metadata": {
    "collapsed": true
   },
   "outputs": [],
   "source": [
    "#handling categorical data for my predictors ,weekdays and category\n",
    "#Convert locations to  numbers that can be handled by the naive bayes algorithm\n",
    "\n",
    "le_loc = preprocessing.LabelEncoder()\n",
    "location = le_loc.fit_transform(train.location)\n",
    "\n",
    "\n",
    "\n",
    "#Get binarized weekdays, categorized,hours, months\n",
    "hour = train.date.dt.hour\n",
    "hours = pd.get_dummies(hour, prefix='Hour')\n",
    "days = pd.get_dummies(train.weekday)\n",
    "month = train.date.dt.month\n",
    "months = pd.get_dummies(month, prefix='Month')\n",
    "category = pd.get_dummies(train.category)\n",
    "\n",
    "\n",
    "\n",
    "\n",
    " \n",
    " #Build new array\n",
    "train_data = pd.concat([ days, category,hours,months], axis=1)\n",
    "\n",
    "#adding binarized location to train data\n",
    "train_data['location']=location\n",
    "\n",
    "# Identify the evening hour, with the expectation that evening hours have more crime\n",
    "train_data['Evening']=hour\n",
    "train_data['Evening']=train_data['Evening'].apply(lambda x: train_data['Evening'][x] in range (18,23))\n",
    "train_data['Evening']=train_data['Evening'].apply(lambda x: int(bool(x)))\n",
    "\n",
    "#adding longitude and latitude to the train data\n",
    "train_data[\"X\"] = train['latitude']\n",
    "train_data[\"Y\"] = train['longitude']\n",
    "\n",
    "\n",
    " \n",
    "#Repeat for test data\n",
    "\n",
    "hour = testloc.date.dt.hour\n",
    "hours = pd.get_dummies(hour, prefix='Hour')\n",
    "days = pd.get_dummies(testloc.weekday)\n",
    "month = testloc.date.dt.month\n",
    "months = pd.get_dummies(month, prefix='Month')\n",
    "category = pd.get_dummies(testloc.category)\n",
    "\n",
    "\n",
    "\n",
    "\n",
    "# Identify the evening hour, with the expectation that evening hours have more crime\n",
    "test_data['Evening']=hour\n",
    "test_data['Evening']=test_data['Evening'].apply(lambda x: test_data['Evening'][x] in range (18,23))\n",
    "test_data['Evening']=test_data['Evening'].apply(lambda x: int(bool(x)))\n",
    "\n",
    " \n",
    "test_data = pd.concat([ days,category], axis=1)\n",
    "\n",
    "\n",
    " \n",
    "training, validation = train_test_split(train_data, train_size=.70)"
   ]
  },
  {
   "cell_type": "code",
   "execution_count": 77,
   "metadata": {
    "collapsed": true
   },
   "outputs": [],
   "source": [
    "features = ['Tuesday', 'Wednesday', 'Thursday', 'Friday', \n",
    "            'Saturday', 'Sunday','Monday','larcency', 'burglary', 'murder', 'assault', 'drug abuse',\n",
    "       'robbery', 'disorderly conduct', 'kidnapping', 'missing person',\n",
    "       'fraud']\n",
    "            "
   ]
  },
  {
   "cell_type": "code",
   "execution_count": 95,
   "metadata": {
    "collapsed": false
   },
   "outputs": [
    {
     "data": {
      "text/plain": [
       "3.1818540297090578"
      ]
     },
     "execution_count": 95,
     "metadata": {},
     "output_type": "execute_result"
    }
   ],
   "source": [
    "# training my classifier using the train dataset\n",
    "training, validation = train_test_split(train_data, train_size=.70)\n",
    "model = BernoulliNB()\n",
    "model.fit(training[features], training['location'])\n",
    "predicted = np.array(model.predict_proba(validation[features]))\n",
    "\n",
    "log_loss(validation['location'], predicted) \n"
   ]
  },
  {
   "cell_type": "code",
   "execution_count": 96,
   "metadata": {
    "collapsed": true
   },
   "outputs": [],
   "source": [
    "# predicting crimes on the test dataset\n",
    "model = BernoulliNB()\n",
    "model.fit(train_data[features], train_data['location'])\n",
    "predicted = model.predict_proba(test_data[features])\n",
    " \n",
    "#Write results\n",
    "result=pd.DataFrame(predicted, columns=le_loc.classes_)\n"
   ]
  },
  {
   "cell_type": "code",
   "execution_count": 97,
   "metadata": {
    "collapsed": true
   },
   "outputs": [],
   "source": [
    "#writing results to csv file\n",
    "result.to_csv('testResult3.csv', index = True, index_label = 'Id' )"
   ]
  },
  {
   "cell_type": "code",
   "execution_count": null,
   "metadata": {
    "collapsed": true
   },
   "outputs": [],
   "source": []
  }
 ],
 "metadata": {
  "kernelspec": {
   "display_name": "Python 3",
   "language": "python",
   "name": "python3"
  },
  "language_info": {
   "codemirror_mode": {
    "name": "ipython",
    "version": 3
   },
   "file_extension": ".py",
   "mimetype": "text/x-python",
   "name": "python",
   "nbconvert_exporter": "python",
   "pygments_lexer": "ipython3",
   "version": "3.5.1"
  }
 },
 "nbformat": 4,
 "nbformat_minor": 2
}
